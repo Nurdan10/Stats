{
 "cells": [
  {
   "cell_type": "code",
   "execution_count": 40,
   "id": "fb8e4386-0c77-4821-b7e2-b6360031108f",
   "metadata": {},
   "outputs": [],
   "source": [
    "import numpy as np\n",
    "import pandas as pd\n",
    "from scipy import stats\n",
    "from scipy.stats import t\n",
    "from scipy.stats import norm\n",
    "import statsmodels.api as sm"
   ]
  },
  {
   "cell_type": "markdown",
   "id": "f87455c9-e594-43d7-9090-b591c5b2218f",
   "metadata": {},
   "source": [
    "**CONFIDENCE INTERVALS**"
   ]
  },
  {
   "cell_type": "markdown",
   "id": "2ce31910-2c3a-492e-91e4-bc1b67f0e47c",
   "metadata": {},
   "source": [
    "**EXERCISE 1.**\n",
    "\n",
    "What is the normal body temperature for healthy humans? A random sample of 130 healthy human body temperatures provided by Allen Shoemaker yielded 98.25 degrees and standard deviation 0.73 degrees.\n",
    "\n",
    "Give a 99% confidence interval for the average body temperature of healthy people."
   ]
  },
  {
   "cell_type": "markdown",
   "id": "29c144fb-4d65-4c1c-8493-294f37f01053",
   "metadata": {},
   "source": [
    "**1. Solution**\n",
    "\n",
    "**Confidence Interval = x +- z * (s/sqrt(n))**\n",
    "\n",
    "Sample mean(x) = 98.25 degrees\n",
    "Sample standard deviation(s) = 0.73 degrees\n",
    "Sample size(n) = 130\n",
    "\n",
    "We want a 99% confidence interval.\n",
    "\n",
    "The z-score for a 99% confidence level is approximately 2.576.\n",
    "\n",
    "Upper Limit = 98.25 + 2.576 * (0.73/sqrt(130)) = 98.415\n",
    "\n",
    "Lower Limit = 98.25 - 2.576 * (0.73/sqrt(130)) = 98.085\n",
    "\n",
    "CI = (98.085, 98.415)"
   ]
  },
  {
   "cell_type": "markdown",
   "id": "10fc19d7-399c-4dfe-97df-85852fbfa22a",
   "metadata": {},
   "source": [
    "**2. Solution**"
   ]
  },
  {
   "cell_type": "code",
   "execution_count": 23,
   "id": "900b422b-5ed4-4a95-bbdd-23424a91de6b",
   "metadata": {},
   "outputs": [
    {
     "name": "stdout",
     "output_type": "stream",
     "text": [
      "99% Confidence Interval: (98.08508192246582, 98.41491807753418)\n"
     ]
    }
   ],
   "source": [
    "sample_mean = 98.25\n",
    "sample_std = 0.73\n",
    "sample_size = 130\n",
    "confidence_level = 0.99\n",
    "\n",
    "z_score = stats.norm.ppf((1 + confidence_level) / 2)\n",
    "margin_of_error = z_score * (sample_std / np.sqrt(sample_size))\n",
    "confidence_interval = (sample_mean - margin_of_error, sample_mean + margin_of_error)\n",
    "\n",
    "print(\"99% Confidence Interval:\", confidence_interval)"
   ]
  },
  {
   "cell_type": "markdown",
   "id": "1e2afe87-ac17-4434-b941-4c48e1f2ea00",
   "metadata": {},
   "source": [
    "**3. Solution**"
   ]
  },
  {
   "cell_type": "code",
   "execution_count": 24,
   "id": "99effc23-74c3-4a39-87ff-56608ef98291",
   "metadata": {},
   "outputs": [
    {
     "data": {
      "text/plain": [
       "0.06402523540941313"
      ]
     },
     "execution_count": 24,
     "metadata": {},
     "output_type": "execute_result"
    }
   ],
   "source": [
    "sem = sample_std / np.sqrt(sample_size)\n",
    "sem"
   ]
  },
  {
   "cell_type": "code",
   "execution_count": 25,
   "id": "cf0cd667-d474-4247-9aff-e3582731a086",
   "metadata": {},
   "outputs": [
    {
     "data": {
      "text/plain": [
       "0.1651851073562859"
      ]
     },
     "execution_count": 25,
     "metadata": {},
     "output_type": "execute_result"
    }
   ],
   "source": [
    "moe = 2.58 * sem\n",
    "moe"
   ]
  },
  {
   "cell_type": "code",
   "execution_count": 26,
   "id": "447295d6-bd60-4853-b30e-111678b2caa9",
   "metadata": {},
   "outputs": [
    {
     "name": "stdout",
     "output_type": "stream",
     "text": [
      "99% Confidence Interval: (98.08481489264372, 98.41518510735628)\n"
     ]
    }
   ],
   "source": [
    "upper_limit = sample_mean + moe\n",
    "lower_limit = sample_mean - moe\n",
    "print('99% Confidence Interval:',(lower_limit, upper_limit))"
   ]
  },
  {
   "cell_type": "markdown",
   "id": "1f75669d-c88f-490c-a1e9-f99b5a0b8955",
   "metadata": {},
   "source": [
    "**EXERCISE 2.**\n",
    "\n",
    "The administrators for a hospital wished to estimate the average number of days required for inpatient treatment of patients between the ages of 25 and 34. A random sample of 500 hospital patients between these ages produced a mean and standard deviation equal to 5.4 and 3.1 days, respectively.\n",
    "\n",
    "\n",
    "Construct a 95% confidence interval for the mean length of stay for the population of patients from which the sample was drawn."
   ]
  },
  {
   "cell_type": "markdown",
   "id": "abfe4dc0-35ec-4e32-b262-b3ba175fff4d",
   "metadata": {},
   "source": [
    "**1. Solution**"
   ]
  },
  {
   "cell_type": "code",
   "execution_count": 27,
   "id": "f20c9002-ed6a-4768-a1b1-b73fc0a14c40",
   "metadata": {},
   "outputs": [
    {
     "name": "stdout",
     "output_type": "stream",
     "text": [
      "95% Confidence Interval: (5.127344562608701, 5.6726554373913)\n"
     ]
    }
   ],
   "source": [
    "sample_mean = 5.4\n",
    "sample_std = 3.1\n",
    "sample_size = 500\n",
    "confidence_level = 0.95\n",
    "\n",
    "df = sample_size - 1\n",
    "t_score = t.ppf((1 + confidence_level) / 2, df)\n",
    "margin_of_error = t_score * (sample_std / np.sqrt(df))\n",
    "confidence_interval = (sample_mean - margin_of_error, sample_mean + margin_of_error)\n",
    "\n",
    "print('95% Confidence Interval:', confidence_interval)"
   ]
  },
  {
   "cell_type": "markdown",
   "id": "8f8f9718-0d5b-45a8-ac02-b71e8e26bf2e",
   "metadata": {},
   "source": [
    "**2. Solution**"
   ]
  },
  {
   "cell_type": "code",
   "execution_count": 28,
   "id": "e3d5b7ab-7d42-4086-87ce-da1ac86bef7d",
   "metadata": {},
   "outputs": [
    {
     "data": {
      "text/plain": [
       "0.13863621460498696"
      ]
     },
     "execution_count": 28,
     "metadata": {},
     "output_type": "execute_result"
    }
   ],
   "source": [
    "sem = sample_std / np.sqrt(sample_size)\n",
    "sem"
   ]
  },
  {
   "cell_type": "code",
   "execution_count": 29,
   "id": "2b4282a0-90e3-42ce-a8e2-55a7f5651af5",
   "metadata": {},
   "outputs": [
    {
     "data": {
      "text/plain": [
       "0.27172698062577444"
      ]
     },
     "execution_count": 29,
     "metadata": {},
     "output_type": "execute_result"
    }
   ],
   "source": [
    "moe = 1.96 * sem\n",
    "moe"
   ]
  },
  {
   "cell_type": "code",
   "execution_count": 30,
   "id": "581a1e0d-075a-4cbb-9956-91248a76d00d",
   "metadata": {},
   "outputs": [
    {
     "name": "stdout",
     "output_type": "stream",
     "text": [
      "95% Confidence Interval: (5.128273019374226, 5.671726980625775)\n"
     ]
    }
   ],
   "source": [
    "upper_limit = sample_mean + moe\n",
    "lower_limit = sample_mean - moe\n",
    "print('95% Confidence Interval:',(lower_limit, upper_limit))"
   ]
  },
  {
   "cell_type": "markdown",
   "id": "15a11e50-5059-4351-8e01-28ffa4a97ab4",
   "metadata": {},
   "source": [
    "**HYPOTHESIS TESTING**\n",
    "\n"
   ]
  },
  {
   "cell_type": "markdown",
   "id": "6a476899-98d9-4ed3-99d2-55b3f19c2a83",
   "metadata": {},
   "source": [
    "\n",
    "**EXERCISE 3.**\n",
    "\n",
    "The hourly wages in a particular industry are normally distributed with mean $13.20 and standard deviation $2.50. A company in this industry employs 40 workers, paying them an average of $12.20 per hour. Can this company be accused of paying substandard wages? Use an α = .01 level test. (Wackerly, Ex.10.18)\n",
    "\n",
    "CHECK: statistic: -2.5298221281347035, pvalue= 0.005706018193000826"
   ]
  },
  {
   "cell_type": "code",
   "execution_count": 31,
   "id": "39d6ad51-6dfd-4735-8fd7-06655aa5a41e",
   "metadata": {},
   "outputs": [
    {
     "name": "stdout",
     "output_type": "stream",
     "text": [
      "Reject the null hypothesis. The company can be accused of paying substandard wages.\n",
      "Statistic: -2.5298221281347035\n",
      "p-value: 0.005706018193000826\n"
     ]
    }
   ],
   "source": [
    "\n",
    "mu = 13.20\n",
    "sigma = 2.50 \n",
    "x_bar = 12.20\n",
    "n = 40 \n",
    "alpha = 0.01 \n",
    "\n",
    "\n",
    "std_error = sigma / (n ** 0.5)\n",
    "\n",
    "z_score = (x_bar - mu) / std_error\n",
    "\n",
    "p_value = norm.cdf(z_score)\n",
    "\n",
    "if p_value < alpha:\n",
    "    print(\"Reject the null hypothesis. The company can be accused of paying substandard wages.\")\n",
    "else:\n",
    "    print(\"Fail to reject the null hypothesis. There is not enough evidence to accuse the company of paying substandard wages.\")\n",
    "\n",
    "print(\"Statistic:\", z_score)\n",
    "print(\"p-value:\", p_value)"
   ]
  },
  {
   "cell_type": "markdown",
   "id": "137c1d48-3131-4c25-8c86-df335754a990",
   "metadata": {},
   "source": [
    "**EXERCISE 4.** \n",
    "\n",
    "Shear strength measurements derived from unconfined compression tests for two types of soils gave the results shown in the following document (measurements in tons per square foot). Do the soils appear to differ with respect to average shear strength, at the 1% significance level?\n",
    "\n",
    "Results for two type of soils\n",
    "\n",
    "CHECK: statistic: 5.1681473319343345, pvalue= 2.593228732352821e-06"
   ]
  },
  {
   "cell_type": "code",
   "execution_count": 45,
   "id": "b20701b9-381c-4999-b9fb-6c46bd14a927",
   "metadata": {},
   "outputs": [
    {
     "ename": "ValueError",
     "evalue": "Dataset soil.xlsx was not found.",
     "output_type": "error",
     "traceback": [
      "\u001b[1;31m---------------------------------------------------------------------------\u001b[0m",
      "\u001b[1;31mHTTPError\u001b[0m                                 Traceback (most recent call last)",
      "File \u001b[1;32m~\\anaconda3\\Lib\\site-packages\\statsmodels\\datasets\\utils.py:166\u001b[0m, in \u001b[0;36m_get_data\u001b[1;34m(base_url, dataname, cache, extension)\u001b[0m\n\u001b[0;32m    165\u001b[0m \u001b[38;5;28;01mtry\u001b[39;00m:\n\u001b[1;32m--> 166\u001b[0m     data, from_cache \u001b[38;5;241m=\u001b[39m _urlopen_cached(url, cache)\n\u001b[0;32m    167\u001b[0m \u001b[38;5;28;01mexcept\u001b[39;00m HTTPError \u001b[38;5;28;01mas\u001b[39;00m err:\n",
      "File \u001b[1;32m~\\anaconda3\\Lib\\site-packages\\statsmodels\\datasets\\utils.py:157\u001b[0m, in \u001b[0;36m_urlopen_cached\u001b[1;34m(url, cache)\u001b[0m\n\u001b[0;32m    156\u001b[0m \u001b[38;5;28;01mif\u001b[39;00m \u001b[38;5;129;01mnot\u001b[39;00m from_cache:\n\u001b[1;32m--> 157\u001b[0m     data \u001b[38;5;241m=\u001b[39m urlopen(url, timeout\u001b[38;5;241m=\u001b[39m\u001b[38;5;241m3\u001b[39m)\u001b[38;5;241m.\u001b[39mread()\n\u001b[0;32m    158\u001b[0m     \u001b[38;5;28;01mif\u001b[39;00m cache \u001b[38;5;129;01mis\u001b[39;00m \u001b[38;5;129;01mnot\u001b[39;00m \u001b[38;5;28;01mNone\u001b[39;00m:  \u001b[38;5;66;03m# then put it in the cache\u001b[39;00m\n",
      "File \u001b[1;32m~\\anaconda3\\Lib\\urllib\\request.py:216\u001b[0m, in \u001b[0;36murlopen\u001b[1;34m(url, data, timeout, cafile, capath, cadefault, context)\u001b[0m\n\u001b[0;32m    215\u001b[0m     opener \u001b[38;5;241m=\u001b[39m _opener\n\u001b[1;32m--> 216\u001b[0m \u001b[38;5;28;01mreturn\u001b[39;00m opener\u001b[38;5;241m.\u001b[39mopen(url, data, timeout)\n",
      "File \u001b[1;32m~\\anaconda3\\Lib\\urllib\\request.py:525\u001b[0m, in \u001b[0;36mOpenerDirector.open\u001b[1;34m(self, fullurl, data, timeout)\u001b[0m\n\u001b[0;32m    524\u001b[0m     meth \u001b[38;5;241m=\u001b[39m \u001b[38;5;28mgetattr\u001b[39m(processor, meth_name)\n\u001b[1;32m--> 525\u001b[0m     response \u001b[38;5;241m=\u001b[39m meth(req, response)\n\u001b[0;32m    527\u001b[0m \u001b[38;5;28;01mreturn\u001b[39;00m response\n",
      "File \u001b[1;32m~\\anaconda3\\Lib\\urllib\\request.py:634\u001b[0m, in \u001b[0;36mHTTPErrorProcessor.http_response\u001b[1;34m(self, request, response)\u001b[0m\n\u001b[0;32m    633\u001b[0m \u001b[38;5;28;01mif\u001b[39;00m \u001b[38;5;129;01mnot\u001b[39;00m (\u001b[38;5;241m200\u001b[39m \u001b[38;5;241m<\u001b[39m\u001b[38;5;241m=\u001b[39m code \u001b[38;5;241m<\u001b[39m \u001b[38;5;241m300\u001b[39m):\n\u001b[1;32m--> 634\u001b[0m     response \u001b[38;5;241m=\u001b[39m \u001b[38;5;28mself\u001b[39m\u001b[38;5;241m.\u001b[39mparent\u001b[38;5;241m.\u001b[39merror(\n\u001b[0;32m    635\u001b[0m         \u001b[38;5;124m'\u001b[39m\u001b[38;5;124mhttp\u001b[39m\u001b[38;5;124m'\u001b[39m, request, response, code, msg, hdrs)\n\u001b[0;32m    637\u001b[0m \u001b[38;5;28;01mreturn\u001b[39;00m response\n",
      "File \u001b[1;32m~\\anaconda3\\Lib\\urllib\\request.py:563\u001b[0m, in \u001b[0;36mOpenerDirector.error\u001b[1;34m(self, proto, *args)\u001b[0m\n\u001b[0;32m    562\u001b[0m args \u001b[38;5;241m=\u001b[39m (\u001b[38;5;28mdict\u001b[39m, \u001b[38;5;124m'\u001b[39m\u001b[38;5;124mdefault\u001b[39m\u001b[38;5;124m'\u001b[39m, \u001b[38;5;124m'\u001b[39m\u001b[38;5;124mhttp_error_default\u001b[39m\u001b[38;5;124m'\u001b[39m) \u001b[38;5;241m+\u001b[39m orig_args\n\u001b[1;32m--> 563\u001b[0m \u001b[38;5;28;01mreturn\u001b[39;00m \u001b[38;5;28mself\u001b[39m\u001b[38;5;241m.\u001b[39m_call_chain(\u001b[38;5;241m*\u001b[39margs)\n",
      "File \u001b[1;32m~\\anaconda3\\Lib\\urllib\\request.py:496\u001b[0m, in \u001b[0;36mOpenerDirector._call_chain\u001b[1;34m(self, chain, kind, meth_name, *args)\u001b[0m\n\u001b[0;32m    495\u001b[0m func \u001b[38;5;241m=\u001b[39m \u001b[38;5;28mgetattr\u001b[39m(handler, meth_name)\n\u001b[1;32m--> 496\u001b[0m result \u001b[38;5;241m=\u001b[39m func(\u001b[38;5;241m*\u001b[39margs)\n\u001b[0;32m    497\u001b[0m \u001b[38;5;28;01mif\u001b[39;00m result \u001b[38;5;129;01mis\u001b[39;00m \u001b[38;5;129;01mnot\u001b[39;00m \u001b[38;5;28;01mNone\u001b[39;00m:\n",
      "File \u001b[1;32m~\\anaconda3\\Lib\\urllib\\request.py:643\u001b[0m, in \u001b[0;36mHTTPDefaultErrorHandler.http_error_default\u001b[1;34m(self, req, fp, code, msg, hdrs)\u001b[0m\n\u001b[0;32m    642\u001b[0m \u001b[38;5;28;01mdef\u001b[39;00m \u001b[38;5;21mhttp_error_default\u001b[39m(\u001b[38;5;28mself\u001b[39m, req, fp, code, msg, hdrs):\n\u001b[1;32m--> 643\u001b[0m     \u001b[38;5;28;01mraise\u001b[39;00m HTTPError(req\u001b[38;5;241m.\u001b[39mfull_url, code, msg, hdrs, fp)\n",
      "\u001b[1;31mHTTPError\u001b[0m: HTTP Error 404: Not Found",
      "\nDuring handling of the above exception, another exception occurred:\n",
      "\u001b[1;31mValueError\u001b[0m                                Traceback (most recent call last)",
      "Cell \u001b[1;32mIn[45], line 1\u001b[0m\n\u001b[1;32m----> 1\u001b[0m df \u001b[38;5;241m=\u001b[39m sm\u001b[38;5;241m.\u001b[39mdatasets\u001b[38;5;241m.\u001b[39mget_rdataset(dataname \u001b[38;5;241m=\u001b[39m \u001b[38;5;124m\"\u001b[39m\u001b[38;5;124msoil.xlsx\u001b[39m\u001b[38;5;124m\"\u001b[39m, package \u001b[38;5;241m=\u001b[39m \u001b[38;5;124m\"\u001b[39m\u001b[38;5;124mMASS\u001b[39m\u001b[38;5;124m\"\u001b[39m)\n\u001b[0;32m      4\u001b[0m t_statistic, p_value \u001b[38;5;241m=\u001b[39m ttest_ind()\n\u001b[0;32m      6\u001b[0m \u001b[38;5;66;03m# Given significance level\u001b[39;00m\n",
      "File \u001b[1;32m~\\anaconda3\\Lib\\site-packages\\statsmodels\\datasets\\utils.py:237\u001b[0m, in \u001b[0;36mget_rdataset\u001b[1;34m(dataname, package, cache)\u001b[0m\n\u001b[0;32m    234\u001b[0m docs_base_url \u001b[38;5;241m=\u001b[39m (\u001b[38;5;124m\"\u001b[39m\u001b[38;5;124mhttps://raw.githubusercontent.com/vincentarelbundock/Rdatasets/\u001b[39m\u001b[38;5;124m\"\u001b[39m\n\u001b[0;32m    235\u001b[0m                  \u001b[38;5;124m\"\u001b[39m\u001b[38;5;124mmaster/doc/\u001b[39m\u001b[38;5;124m\"\u001b[39m\u001b[38;5;241m+\u001b[39mpackage\u001b[38;5;241m+\u001b[39m\u001b[38;5;124m\"\u001b[39m\u001b[38;5;124m/rst/\u001b[39m\u001b[38;5;124m\"\u001b[39m)\n\u001b[0;32m    236\u001b[0m cache \u001b[38;5;241m=\u001b[39m _get_cache(cache)\n\u001b[1;32m--> 237\u001b[0m data, from_cache \u001b[38;5;241m=\u001b[39m _get_data(data_base_url, dataname, cache)\n\u001b[0;32m    238\u001b[0m data \u001b[38;5;241m=\u001b[39m read_csv(data, index_col\u001b[38;5;241m=\u001b[39m\u001b[38;5;241m0\u001b[39m)\n\u001b[0;32m    239\u001b[0m data \u001b[38;5;241m=\u001b[39m _maybe_reset_index(data)\n",
      "File \u001b[1;32m~\\anaconda3\\Lib\\site-packages\\statsmodels\\datasets\\utils.py:169\u001b[0m, in \u001b[0;36m_get_data\u001b[1;34m(base_url, dataname, cache, extension)\u001b[0m\n\u001b[0;32m    167\u001b[0m \u001b[38;5;28;01mexcept\u001b[39;00m HTTPError \u001b[38;5;28;01mas\u001b[39;00m err:\n\u001b[0;32m    168\u001b[0m     \u001b[38;5;28;01mif\u001b[39;00m \u001b[38;5;124m'\u001b[39m\u001b[38;5;124m404\u001b[39m\u001b[38;5;124m'\u001b[39m \u001b[38;5;129;01min\u001b[39;00m \u001b[38;5;28mstr\u001b[39m(err):\n\u001b[1;32m--> 169\u001b[0m         \u001b[38;5;28;01mraise\u001b[39;00m \u001b[38;5;167;01mValueError\u001b[39;00m(\u001b[38;5;124m\"\u001b[39m\u001b[38;5;124mDataset \u001b[39m\u001b[38;5;132;01m%s\u001b[39;00m\u001b[38;5;124m was not found.\u001b[39m\u001b[38;5;124m\"\u001b[39m \u001b[38;5;241m%\u001b[39m dataname)\n\u001b[0;32m    170\u001b[0m     \u001b[38;5;28;01melse\u001b[39;00m:\n\u001b[0;32m    171\u001b[0m         \u001b[38;5;28;01mraise\u001b[39;00m err\n",
      "\u001b[1;31mValueError\u001b[0m: Dataset soil.xlsx was not found."
     ]
    }
   ],
   "source": [
    "df = sm.datasets.get_rdataset(dataname)\n",
    "\n",
    "\n",
    "t_statistic, p_value = ttest_ind()\n",
    "\n",
    "# Given significance level\n",
    "alpha = 0.01\n",
    "\n",
    "# Check if the null hypothesis can be rejected\n",
    "if p_value < alpha:\n",
    "    print(\"Reject the null hypothesis. The soils appear to differ with respect to average shear strength.\")\n",
    "else:\n",
    "    print(\"Fail to reject the null hypothesis. There is not enough evidence to conclude that the soils differ with respect to average shear strength.\")\n",
    "\n",
    "print(\"Statistic:\", t_statistic)\n",
    "print(\"p-value:\", p_value)"
   ]
  },
  {
   "cell_type": "markdown",
   "id": "02e5ca28-8246-4ce7-86b2-b642a7e613fa",
   "metadata": {},
   "source": [
    "**EXERCISE 5.**\n",
    "\n",
    "The following dataset is based on data provided by the World Bank (https://datacatalog.worldbank.org/dataset/education-statistics). World Bank Edstats.  2015 PISA Test Dataset\n",
    "\n",
    "Get descriptive statistics (the central tendency, dispersion and shape of a dataset’s distribution) for each continent group (AS, EU, AF, NA, SA, OC).\n",
    "Determine whether there is any difference (on the average) for the math scores among European (EU) and Asian (AS) countries (assume normality and equal variances). Draw side-by-side box plots.\n",
    "CHECK: statistic=0.870055317967983, pvalue=0.38826888111307345"
   ]
  },
  {
   "cell_type": "code",
   "execution_count": null,
   "id": "8534f11a-8a50-4718-87cf-a1958fad4cfa",
   "metadata": {},
   "outputs": [],
   "source": []
  }
 ],
 "metadata": {
  "kernelspec": {
   "display_name": "Python 3 (ipykernel)",
   "language": "python",
   "name": "python3"
  },
  "language_info": {
   "codemirror_mode": {
    "name": "ipython",
    "version": 3
   },
   "file_extension": ".py",
   "mimetype": "text/x-python",
   "name": "python",
   "nbconvert_exporter": "python",
   "pygments_lexer": "ipython3",
   "version": "3.11.7"
  }
 },
 "nbformat": 4,
 "nbformat_minor": 5
}
