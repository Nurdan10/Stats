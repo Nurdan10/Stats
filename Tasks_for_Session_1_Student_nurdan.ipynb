{
  "cells": [
    {
      "cell_type": "markdown",
      "id": "6c9ef7ca",
      "metadata": {
        "deletable": false,
        "editable": false,
        "id": "6c9ef7ca"
      },
      "source": [
        "<a href=\"https://clarusway.com/contact-us/\"><img align=\"center\" src=\"https://i.ibb.co/B43qn24/officially-licensed-logo.png\" alt=\"Open in Clarusway LMS\" width=\"110\" height=\"200\" title=\"This notebook is licensed by Clarusway IT training school. Please contact the authorized persons about the conditions under which you can use or share.\"></a>"
      ]
    },
    {
      "cell_type": "markdown",
      "id": "77a5ec5c",
      "metadata": {
        "id": "77a5ec5c"
      },
      "source": [
        "<hr>\n",
        "\n",
        "<a href=\"https://lms.clarusway.com/mod/lesson/view.php?id=2463&pageid=4531&startlastseen=no\"><img align=\"center\" src=\"https://i.ibb.co/6Z5pQxD/lmss.png\" alt=\"Open in Clarusway LMS\" width=\"70\" height=\"200\" title=\"Open Clarusway Learning Management Sytem\"></a>\n",
        "\n",
        "<a href=\"https://github.com/clarusway/DS-DE-0322-Students/blob/main/3-%20Classes%26Labs/2-DAwPY/DAwPy_S01_(Numpy_Arrays).ipynb\"><img align=\"left\" src=\"https://i.ibb.co/n3HWyQX/github-logo.png\" alt=\"Open in Clarusway GitHub\" width=\"90\" height=\"150\" title=\"Open and Execute in Clarusway GitHub Repository\"></a>\n",
        "\n",
        "<a href=\"https://nbviewer.org/github/4dsolutions/clarusway_data_analysis/blob/main/DAwPy_S1_%28Numpy_Arrays%29/DAwPy_S1_%28Numpy_Arrays%29.ipynb\"><img align=\"right\" src=\"https://i.ibb.co/48wtV8c/nbviewer-badge.png\" alt=\"Open in nbviewer\" width=\"100\" height=\"100\" title=\"Open and Execute in nbviewer\"></a><br/>\n",
        "\n",
        "<hr>\n",
        "\n",
        "<p style=\"text-align: center;\"><img src=\"https://i.ibb.co/Rpz9L36/clarusway-logo-black.png\" width=\"500\" height=\"200\" class=\"img-fluid\" alt=\"CLRSWY_LOGO\"></p>\n",
        "\n",
        "<p style=\"text-align: center;\"><img src=\"https://i.ibb.co/XS0bxSH/best-bootcamps.png\" width=\"300\" height=\"200\" class=\"img-fluid\" alt=\"CLRSWY_LOGO\"></p>\n",
        "\n",
        "<p style=\"background-color:#E51A59; font-family:newtimeroman; color:#FDFEFE; font-size:130%; text-align:center; border-radius:10px 10px;\">WAY TO REINVENT YOURSELF</p>\n",
        "\n",
        "<p style=\"text-align: center;\"><img src=\"https://i.ibb.co/99DQ3TY/DS-Courses.png\" class=\"img-fluid\"\n",
        "alt=\"CLRSWY_Courses\"></p>"
      ]
    },
    {
      "cell_type": "markdown",
      "id": "a487007e",
      "metadata": {
        "id": "a487007e"
      },
      "source": [
        "# <p style=\"background-color:#9d4f8c; font-family:newtimeroman; color:#FFF9ED; font-size:150%; text-align:LEFT; border-radius:10px 10px;\">Tasks for Session-1</p>"
      ]
    },
    {
      "cell_type": "markdown",
      "id": "2d3b4cae",
      "metadata": {
        "id": "2d3b4cae"
      },
      "source": [
        "## Task 1 : Task: Random Matrix Generation and Operations:\n",
        "\n",
        "### 1a. Generate a 4x4 matrix filled with random values."
      ]
    },
    {
      "cell_type": "code",
      "execution_count": 3,
      "id": "a868c845",
      "metadata": {
        "id": "a868c845"
      },
      "outputs": [],
      "source": [
        "import numpy as np\n"
      ]
    },
    {
      "cell_type": "code",
      "source": [
        "arr = np.random.rand(4, 4)\n",
        "print(arr)"
      ],
      "metadata": {
        "colab": {
          "base_uri": "https://localhost:8080/"
        },
        "id": "fW1ZgQ2ybcbe",
        "outputId": "64c14d74-52e7-4019-f349-a2419678479b"
      },
      "id": "fW1ZgQ2ybcbe",
      "execution_count": 9,
      "outputs": [
        {
          "output_type": "stream",
          "name": "stdout",
          "text": [
            "[[0.65631784 0.34197529 0.5018068  0.36107284]\n",
            " [0.99635822 0.15305152 0.33156472 0.81503804]\n",
            " [0.10408791 0.19906543 0.28625648 0.87258749]\n",
            " [0.14591421 0.83300003 0.84158253 0.85856718]]\n"
          ]
        }
      ]
    },
    {
      "cell_type": "markdown",
      "id": "60485ee8",
      "metadata": {
        "id": "60485ee8"
      },
      "source": [
        "### 1b. Calculate the row sums of the matrix."
      ]
    },
    {
      "cell_type": "code",
      "execution_count": 10,
      "id": "7c823f50",
      "metadata": {
        "colab": {
          "base_uri": "https://localhost:8080/"
        },
        "id": "7c823f50",
        "outputId": "47cfbc41-355e-4829-96af-b0398788d820"
      },
      "outputs": [
        {
          "output_type": "execute_result",
          "data": {
            "text/plain": [
              "array([1.86117278, 2.29601251, 1.46199731, 2.67906395])"
            ]
          },
          "metadata": {},
          "execution_count": 10
        }
      ],
      "source": [
        "np.sum(arr, axis=1)"
      ]
    },
    {
      "cell_type": "markdown",
      "id": "3e1e7afb",
      "metadata": {
        "id": "3e1e7afb"
      },
      "source": [
        "### 1c. Calculate the column means of the matrix."
      ]
    },
    {
      "cell_type": "code",
      "source": [
        "np.mean(arr, axis=0)"
      ],
      "metadata": {
        "colab": {
          "base_uri": "https://localhost:8080/"
        },
        "id": "FTvFUhVXdfbu",
        "outputId": "b40c7705-0350-4ea8-9b06-8b3a1b8180cb"
      },
      "id": "FTvFUhVXdfbu",
      "execution_count": 15,
      "outputs": [
        {
          "output_type": "execute_result",
          "data": {
            "text/plain": [
              "array([0.47566954, 0.38177307, 0.49030263, 0.72681639])"
            ]
          },
          "metadata": {},
          "execution_count": 15
        }
      ]
    },
    {
      "cell_type": "code",
      "execution_count": 13,
      "id": "2b478357",
      "metadata": {
        "colab": {
          "base_uri": "https://localhost:8080/"
        },
        "id": "2b478357",
        "outputId": "11e04f4a-0115-4c95-f3c8-32c03e42522c"
      },
      "outputs": [
        {
          "output_type": "execute_result",
          "data": {
            "text/plain": [
              "array([0.47566954, 0.38177307, 0.49030263, 0.72681639])"
            ]
          },
          "metadata": {},
          "execution_count": 13
        }
      ],
      "source": [
        "from scipy import stats\n",
        "np.mean(arr, axis=0)\n"
      ]
    },
    {
      "cell_type": "markdown",
      "id": "e80c281d",
      "metadata": {
        "id": "e80c281d"
      },
      "source": [
        "### 1d. Find the sum of the diagonal elements of the matrix."
      ]
    },
    {
      "cell_type": "code",
      "execution_count": 16,
      "id": "42ab977a",
      "metadata": {
        "colab": {
          "base_uri": "https://localhost:8080/"
        },
        "id": "42ab977a",
        "outputId": "11784203-44ca-4c14-97a8-ac35bbaee1ec"
      },
      "outputs": [
        {
          "output_type": "execute_result",
          "data": {
            "text/plain": [
              "1.9541930192420351"
            ]
          },
          "metadata": {},
          "execution_count": 16
        }
      ],
      "source": [
        "np.trace(arr)"
      ]
    },
    {
      "cell_type": "markdown",
      "id": "ac2ea67c",
      "metadata": {
        "id": "ac2ea67c"
      },
      "source": [
        "## Task 2: Array Sorting and Indexing:\n",
        "\n",
        "### 2a. Create an array of random numbers from 1 to 20."
      ]
    },
    {
      "cell_type": "code",
      "execution_count": 23,
      "id": "dfe64687",
      "metadata": {
        "colab": {
          "base_uri": "https://localhost:8080/"
        },
        "id": "dfe64687",
        "outputId": "8a0391e2-d1ce-47d2-b5ae-5593824a5243"
      },
      "outputs": [
        {
          "output_type": "stream",
          "name": "stdout",
          "text": [
            "[17  9 16 19  2 17  5 16 12 17 12 10 13 15 12 16  7 11 17  5]\n"
          ]
        }
      ],
      "source": [
        "num_rand = np.random.randint(1, 20, 20)\n",
        "print(num_rand)"
      ]
    },
    {
      "cell_type": "markdown",
      "id": "66185aa8",
      "metadata": {
        "id": "66185aa8"
      },
      "source": [
        "### 2b. Sort the array in descending order."
      ]
    },
    {
      "cell_type": "code",
      "execution_count": 24,
      "id": "8dc5199f",
      "metadata": {
        "colab": {
          "base_uri": "https://localhost:8080/"
        },
        "id": "8dc5199f",
        "outputId": "354669be-5038-4d24-e784-9668244e7417"
      },
      "outputs": [
        {
          "output_type": "execute_result",
          "data": {
            "text/plain": [
              "array([19, 17, 17, 17, 17, 16, 16, 16, 15, 13, 12, 12, 12, 11, 10,  9,  7,\n",
              "        5,  5,  2])"
            ]
          },
          "metadata": {},
          "execution_count": 24
        }
      ],
      "source": [
        "np.sort(num_rand)[::-1]"
      ]
    },
    {
      "cell_type": "markdown",
      "id": "747496e7",
      "metadata": {
        "id": "747496e7"
      },
      "source": [
        "### 2c. Find the minimum and maximum elements of the array."
      ]
    },
    {
      "cell_type": "code",
      "execution_count": 25,
      "id": "287685fa",
      "metadata": {
        "colab": {
          "base_uri": "https://localhost:8080/"
        },
        "id": "287685fa",
        "outputId": "680529a2-5764-4d8b-841b-068a022e01b2"
      },
      "outputs": [
        {
          "output_type": "execute_result",
          "data": {
            "text/plain": [
              "19"
            ]
          },
          "metadata": {},
          "execution_count": 25
        }
      ],
      "source": [
        "np.max(num_rand)"
      ]
    },
    {
      "cell_type": "markdown",
      "id": "50586a09",
      "metadata": {
        "id": "50586a09"
      },
      "source": [
        "### 2d. Select the first half of the array (the first 10 elements) and reverse them."
      ]
    },
    {
      "cell_type": "code",
      "execution_count": 29,
      "id": "6f06602e",
      "metadata": {
        "colab": {
          "base_uri": "https://localhost:8080/"
        },
        "id": "6f06602e",
        "outputId": "5ac89876-d215-47f2-e0fa-066c67e76761"
      },
      "outputs": [
        {
          "output_type": "execute_result",
          "data": {
            "text/plain": [
              "array([17, 12, 16,  5, 17,  2, 19, 16,  9, 17])"
            ]
          },
          "metadata": {},
          "execution_count": 29
        }
      ],
      "source": [
        "num_rand[:10][::-1]"
      ]
    },
    {
      "cell_type": "markdown",
      "id": "9562b807",
      "metadata": {
        "id": "9562b807"
      },
      "source": [
        "## Task 3: Convert the Arrays:\n",
        "\n",
        "### 3a. Create an array with elements [-1, 0, 1, 2, 3]."
      ]
    },
    {
      "cell_type": "code",
      "execution_count": 31,
      "id": "24dff028",
      "metadata": {
        "id": "24dff028"
      },
      "outputs": [],
      "source": [
        "arr1 = np.array([-1, 0, 1, 2, 3])"
      ]
    },
    {
      "cell_type": "markdown",
      "id": "d70db02f",
      "metadata": {
        "id": "d70db02f"
      },
      "source": [
        "### 3b. Convert the array into a matrix and square each element."
      ]
    },
    {
      "cell_type": "code",
      "execution_count": 33,
      "id": "ca57c1e6",
      "metadata": {
        "colab": {
          "base_uri": "https://localhost:8080/"
        },
        "id": "ca57c1e6",
        "outputId": "14f94834-d175-4143-970e-4ba4f0bd1a77"
      },
      "outputs": [
        {
          "output_type": "stream",
          "name": "stdout",
          "text": [
            "[[1]\n",
            " [0]\n",
            " [1]\n",
            " [4]\n",
            " [9]]\n"
          ]
        }
      ],
      "source": [
        "arr1_matrix = arr1.reshape(-1, 1)\n",
        "square_matrix = arr1_matrix ** 2\n",
        "print(square_matrix)"
      ]
    },
    {
      "cell_type": "markdown",
      "id": "012014fd",
      "metadata": {
        "id": "012014fd"
      },
      "source": [
        "### 3c. Convert the matrix back to a one-dimensional array."
      ]
    },
    {
      "cell_type": "code",
      "execution_count": 36,
      "id": "5457ffe7",
      "metadata": {
        "colab": {
          "base_uri": "https://localhost:8080/"
        },
        "id": "5457ffe7",
        "outputId": "8aa8167e-e28b-45e0-b39c-36fa72feeafe"
      },
      "outputs": [
        {
          "output_type": "stream",
          "name": "stdout",
          "text": [
            "[1 0 1 4 9]\n"
          ]
        }
      ],
      "source": [
        "one_dimensional_array = np.ravel(square_matrix)\n",
        "print(one_dimensional_array)"
      ]
    },
    {
      "cell_type": "markdown",
      "id": "02d026ae",
      "metadata": {
        "id": "02d026ae"
      },
      "source": [
        "### 3d. Convert each element of the array to its absolute value"
      ]
    },
    {
      "cell_type": "code",
      "execution_count": 40,
      "id": "47de9640",
      "metadata": {
        "colab": {
          "base_uri": "https://localhost:8080/"
        },
        "id": "47de9640",
        "outputId": "9e20fb95-d806-4132-b5c1-183ffe8bc76f"
      },
      "outputs": [
        {
          "output_type": "stream",
          "name": "stdout",
          "text": [
            "[1 0 1 2 3]\n"
          ]
        }
      ],
      "source": [
        "abs_arr = np.abs(arr1)\n",
        "print(abs_arr)  #-1 i elde etmek icin napilir?"
      ]
    },
    {
      "cell_type": "markdown",
      "id": "60794f9a",
      "metadata": {
        "id": "60794f9a"
      },
      "source": [
        "<hr>\n",
        "\n",
        "## <p style=\"background-color:#FDFEFE; font-family:newtimeroman; color:#9d4f8c; font-size:150%; text-align:center; border-radius:10px 10px;\">The End of Task</p>\n",
        "\n",
        "\n",
        "<p style=\"text-align: center;\"><img src=\"https://i.ibb.co/99DQ3TY/DS-Courses.png\" class=\"img-fluid\"\n",
        "alt=\"CLRSWY\"></p>\n",
        "\n",
        "\n",
        "<br><br><br>\n",
        "\n",
        "<p style=\"text-align: center;\"><img src=\"https://i.ibb.co/Rpz9L36/clarusway-logo-black.png\" width=\"450\" height=\"200\" class=\"img-fluid\" alt=\"CLRSWY_LOGO\"></p>\n",
        "\n",
        "<p style=\"background-color:#E51A59; font-family:newtimeroman; color:#FDFEFE; font-size:130%; text-align:center; border-radius:10px 10px;\">WAY TO REINVENT YOURSELF</p>"
      ]
    },
    {
      "cell_type": "markdown",
      "id": "4008c104",
      "metadata": {
        "deletable": false,
        "editable": false,
        "id": "4008c104"
      },
      "source": [
        "<a href=\"https://clarusway.com/contact-us/\"><img align=\"center\" src=\"https://i.ibb.co/B43qn24/officially-licensed-logo.png\" alt=\"Open in Clarusway LMS\" width=\"110\" height=\"200\" title=\"This notebook is licensed by Clarusway IT training school. Please contact the authorized persons about the conditions under which you can use or share.\"></a>"
      ]
    }
  ],
  "metadata": {
    "kernelspec": {
      "display_name": "Python 3 (ipykernel)",
      "language": "python",
      "name": "python3"
    },
    "language_info": {
      "codemirror_mode": {
        "name": "ipython",
        "version": 3
      },
      "file_extension": ".py",
      "mimetype": "text/x-python",
      "name": "python",
      "nbconvert_exporter": "python",
      "pygments_lexer": "ipython3",
      "version": "3.11.5"
    },
    "toc": {
      "base_numbering": 1,
      "nav_menu": {},
      "number_sections": false,
      "sideBar": true,
      "skip_h1_title": false,
      "title_cell": "Table of Contents",
      "title_sidebar": "Contents",
      "toc_cell": false,
      "toc_position": {},
      "toc_section_display": true,
      "toc_window_display": true
    },
    "colab": {
      "provenance": []
    }
  },
  "nbformat": 4,
  "nbformat_minor": 5
}