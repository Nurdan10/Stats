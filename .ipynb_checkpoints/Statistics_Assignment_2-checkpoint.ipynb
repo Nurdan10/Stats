{
 "cells": [
  {
   "cell_type": "code",
   "execution_count": 6,
   "id": "fb8e4386-0c77-4821-b7e2-b6360031108f",
   "metadata": {},
   "outputs": [],
   "source": [
    "import numpy as np\n",
    "from scipy import stats\n",
    "from scipy.stats import t"
   ]
  },
  {
   "cell_type": "markdown",
   "id": "f87455c9-e594-43d7-9090-b591c5b2218f",
   "metadata": {},
   "source": [
    "**CONFIDENCE INTERVALS**"
   ]
  },
  {
   "cell_type": "markdown",
   "id": "2ce31910-2c3a-492e-91e4-bc1b67f0e47c",
   "metadata": {},
   "source": [
    "**EXERCISE 1.**\n",
    "\n",
    "What is the normal body temperature for healthy humans? A random sample of 130 healthy human body temperatures provided by Allen Shoemaker yielded 98.25 degrees and standard deviation 0.73 degrees.\n",
    "\n",
    "Give a 99% confidence interval for the average body temperature of healthy people."
   ]
  },
  {
   "cell_type": "markdown",
   "id": "29c144fb-4d65-4c1c-8493-294f37f01053",
   "metadata": {},
   "source": [
    "**Confidence Interval = x +- z * (s/sqrt(n))**\n",
    "\n",
    "Sample mean(x) = 98.25 degrees\n",
    "Sample standard deviation(s) = 0.73 degrees\n",
    "Sample size(n) = 130\n",
    "\n",
    "We want a 99% confidence interval.\n",
    "\n",
    "The z-score for a 99% confidence level is approximately 2.576.\n",
    "\n",
    "Upper Limit = 98.25 + 2.576 * (0.73/sqrt(130)) = 98.415\n",
    "\n",
    "Lower Limit = 98.25 - 2.576 * (0.73/sqrt(130)) = 98.085\n",
    "\n",
    "CI = (98.085, 98.415)"
   ]
  },
  {
   "cell_type": "code",
   "execution_count": 3,
   "id": "900b422b-5ed4-4a95-bbdd-23424a91de6b",
   "metadata": {},
   "outputs": [
    {
     "name": "stdout",
     "output_type": "stream",
     "text": [
      "99% Confidence Interval: (98.08508192246582, 98.41491807753418)\n"
     ]
    }
   ],
   "source": [
    "sample_mean = 98.25\n",
    "sample_std = 0.73\n",
    "sample_size = 130\n",
    "confidence_level = 0.99\n",
    "\n",
    "z_score = stats.norm.ppf((1 + confidence_level) / 2)\n",
    "margin_of_error = z_score * (sample_std / np.sqrt(sample_size))\n",
    "confidence_interval = (sample_mean - margin_of_error, sample_mean + margin_of_error)\n",
    "\n",
    "print(\"99% Confidence Interval:\", confidence_interval)"
   ]
  },
  {
   "cell_type": "markdown",
   "id": "1f75669d-c88f-490c-a1e9-f99b5a0b8955",
   "metadata": {},
   "source": [
    "**EXERCISE 2.**\n",
    "\n",
    "The administrators for a hospital wished to estimate the average number of days required for inpatient treatment of patients between the ages of 25 and 34. A random sample of 500 hospital patients between these ages produced a mean and standard deviation equal to 5.4 and 3.1 days, respectively.\n",
    "\n",
    "\n",
    "Construct a 95% confidence interval for the mean length of stay for the population of patients from which the sample was drawn."
   ]
  },
  {
   "cell_type": "code",
   "execution_count": 12,
   "id": "f20c9002-ed6a-4768-a1b1-b73fc0a14c40",
   "metadata": {},
   "outputs": [
    {
     "name": "stdout",
     "output_type": "stream",
     "text": [
      "95% Confidence Interval: (5.127344562608701, 5.6726554373913)\n"
     ]
    }
   ],
   "source": [
    "sample_mean = 5.4\n",
    "sample_std = 3.1\n",
    "sample_size = 500\n",
    "confidence_level = 0.95\n",
    "\n",
    "df = sample_size - 1\n",
    "t_score = t.ppf((1 + confidence_level) / 2, df)\n",
    "margin_of_error = t_score * (sample_std / np.sqrt(df))\n",
    "confidence_interval = (sample_mean - margin_of_error, sample_mean + margin_of_error)\n",
    "\n",
    "print(\"95% Confidence Interval:\", confidence_interval)"
   ]
  },
  {
   "cell_type": "markdown",
   "id": "15a11e50-5059-4351-8e01-28ffa4a97ab4",
   "metadata": {},
   "source": [
    "**HYPOTHESIS TESTING**\n",
    "\n"
   ]
  },
  {
   "cell_type": "markdown",
   "id": "6a476899-98d9-4ed3-99d2-55b3f19c2a83",
   "metadata": {},
   "source": [
    "\n",
    "**EXERCISE 3.**\n",
    "\n",
    "The hourly wages in a particular industry are normally distributed with mean $13.20 and standard deviation $2.50. A company in this industry employs 40 workers, paying them an average of $12.20 per hour. Can this company be accused of paying substandard wages? Use an α = .01 level test. (Wackerly, Ex.10.18)\n",
    "\n",
    "CHECK: statistic: -2.5298221281347035, pvalue= 0.005706018193000826"
   ]
  },
  {
   "cell_type": "markdown",
   "id": "137c1d48-3131-4c25-8c86-df335754a990",
   "metadata": {},
   "source": [
    "**EXERCISE 4.** \n",
    "\n",
    "Shear strength measurements derived from unconfined compression tests for two types of soils gave the results shown in the following document (measurements in tons per square foot). Do the soils appear to differ with respect to average shear strength, at the 1% significance level?\n",
    "\n",
    "Results for two type of soils\n",
    "\n",
    "CHECK: statistic: 5.1681473319343345, pvalue= 2.593228732352821e-06"
   ]
  },
  {
   "cell_type": "markdown",
   "id": "02e5ca28-8246-4ce7-86b2-b642a7e613fa",
   "metadata": {},
   "source": [
    "**EXERCISE 5.**\n",
    "\n",
    "The following dataset is based on data provided by the World Bank (https://datacatalog.worldbank.org/dataset/education-statistics). World Bank Edstats.  2015 PISA Test Dataset\n",
    "\n",
    "Get descriptive statistics (the central tendency, dispersion and shape of a dataset’s distribution) for each continent group (AS, EU, AF, NA, SA, OC).\n",
    "Determine whether there is any difference (on the average) for the math scores among European (EU) and Asian (AS) countries (assume normality and equal variances). Draw side-by-side box plots.\n",
    "CHECK: statistic=0.870055317967983, pvalue=0.38826888111307345"
   ]
  },
  {
   "cell_type": "code",
   "execution_count": null,
   "id": "8534f11a-8a50-4718-87cf-a1958fad4cfa",
   "metadata": {},
   "outputs": [],
   "source": []
  }
 ],
 "metadata": {
  "kernelspec": {
   "display_name": "Python 3 (ipykernel)",
   "language": "python",
   "name": "python3"
  },
  "language_info": {
   "codemirror_mode": {
    "name": "ipython",
    "version": 3
   },
   "file_extension": ".py",
   "mimetype": "text/x-python",
   "name": "python",
   "nbconvert_exporter": "python",
   "pygments_lexer": "ipython3",
   "version": "3.11.7"
  }
 },
 "nbformat": 4,
 "nbformat_minor": 5
}
