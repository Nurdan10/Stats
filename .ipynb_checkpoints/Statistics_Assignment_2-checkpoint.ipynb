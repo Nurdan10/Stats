{
 "cells": [
  {
   "cell_type": "code",
   "execution_count": 98,
   "id": "fb8e4386-0c77-4821-b7e2-b6360031108f",
   "metadata": {},
   "outputs": [],
   "source": [
    "import numpy as np\n",
    "import pandas as pd\n",
    "from scipy import stats\n",
    "from scipy.stats import t\n",
    "from scipy.stats import norm\n",
    "import statsmodels.api as sm\n",
    "import seaborn as sns"
   ]
  },
  {
   "cell_type": "markdown",
   "id": "f87455c9-e594-43d7-9090-b591c5b2218f",
   "metadata": {},
   "source": [
    "# CONFIDENCE INTERVALS"
   ]
  },
  {
   "cell_type": "markdown",
   "id": "2ce31910-2c3a-492e-91e4-bc1b67f0e47c",
   "metadata": {},
   "source": [
    "**EXERCISE 1.**\n",
    "\n",
    "What is the normal body temperature for healthy humans? A random sample of 130 healthy human body temperatures provided by Allen Shoemaker yielded 98.25 degrees and standard deviation 0.73 degrees.\n",
    "\n",
    "Give a 99% confidence interval for the average body temperature of healthy people."
   ]
  },
  {
   "cell_type": "markdown",
   "id": "10fc19d7-399c-4dfe-97df-85852fbfa22a",
   "metadata": {},
   "source": [
    "**1. Solution**"
   ]
  },
  {
   "cell_type": "code",
   "execution_count": 99,
   "id": "f6e0140e-387c-4a6f-8b6a-2732f5f06a48",
   "metadata": {},
   "outputs": [
    {
     "name": "stdout",
     "output_type": "stream",
     "text": [
      "99% Confidence Interval for the average body temperature of healthy people:\n",
      "Lower bound: 98.0826 degrees\n",
      "Upper bound: 98.4174 degrees\n"
     ]
    }
   ],
   "source": [
    "sample_mean = 98.25  \n",
    "sample_std = 0.73   \n",
    "sample_size = 130   \n",
    "confidence_level = 0.99  \n",
    "\n",
    "df = sample_size - 1  \n",
    "t_score = t.ppf((1 + confidence_level) / 2, df)\n",
    "\n",
    "margin_of_error = t_score * (sample_std / np.sqrt(sample_size))\n",
    "\n",
    "lower_bound = sample_mean - margin_of_error\n",
    "upper_bound = sample_mean + margin_of_error\n",
    "\n",
    "print(f\"99% Confidence Interval for the average body temperature of healthy people:\")\n",
    "print(f\"Lower bound: {lower_bound:.4f} degrees\")\n",
    "print(f\"Upper bound: {upper_bound:.4f} degrees\")"
   ]
  },
  {
   "cell_type": "markdown",
   "id": "1e2afe87-ac17-4434-b941-4c48e1f2ea00",
   "metadata": {},
   "source": [
    "**2. Solution**"
   ]
  },
  {
   "cell_type": "code",
   "execution_count": 103,
   "id": "aff81153-f8f2-4ce0-b88f-cf50f9230f4d",
   "metadata": {},
   "outputs": [
    {
     "name": "stdout",
     "output_type": "stream",
     "text": [
      "99% Confidence Interval for the average body temperature of healthy people:\n",
      "Lower bound: 98.0844 degrees\n",
      "Upper bound: 98.4156 degrees\n"
     ]
    }
   ],
   "source": [
    "margin_of_error = t.interval(confidence_level, df, loc=sample_mean, scale=sample_std/np.sqrt(sample_size))\n",
    "print(f\"99% Confidence Interval for the average body temperature of healthy people:\")\n",
    "print(f\"Lower bound: {margin_of_error[0]:.4f} degrees\")\n",
    "print(f\"Upper bound: {margin_of_error[1]:.4f} degrees\")"
   ]
  },
  {
   "cell_type": "markdown",
   "id": "1f75669d-c88f-490c-a1e9-f99b5a0b8955",
   "metadata": {},
   "source": [
    "**EXERCISE 2.**\n",
    "\n",
    "The administrators for a hospital wished to estimate the average number of days required for inpatient treatment of patients between the ages of 25 and 34. A random sample of 500 hospital patients between these ages produced a mean and standard deviation equal to 5.4 and 3.1 days, respectively.\n",
    "\n",
    "\n",
    "Construct a 95% confidence interval for the mean length of stay for the population of patients from which the sample was drawn."
   ]
  },
  {
   "cell_type": "markdown",
   "id": "abfe4dc0-35ec-4e32-b262-b3ba175fff4d",
   "metadata": {},
   "source": [
    "**1. Solution**"
   ]
  },
  {
   "cell_type": "code",
   "execution_count": 104,
   "id": "f20c9002-ed6a-4768-a1b1-b73fc0a14c40",
   "metadata": {},
   "outputs": [
    {
     "name": "stdout",
     "output_type": "stream",
     "text": [
      "95% Confidence Interval: (5.127344562608701, 5.6726554373913)\n"
     ]
    }
   ],
   "source": [
    "x_bar = 5.4\n",
    "s = 3.1\n",
    "n = 500\n",
    "ci = 0.95\n",
    "\n",
    "df = n - 1\n",
    "t_score = t.ppf((1 + ci) / 2, df)\n",
    "margin_of_error = t_score * (s / np.sqrt(df))\n",
    "confidence_interval = (x_bar - margin_of_error, x_bar + margin_of_error)\n",
    "\n",
    "print('95% Confidence Interval:', confidence_interval)"
   ]
  },
  {
   "cell_type": "markdown",
   "id": "8f8f9718-0d5b-45a8-ac02-b71e8e26bf2e",
   "metadata": {},
   "source": [
    "**2. Solution**"
   ]
  },
  {
   "cell_type": "code",
   "execution_count": 105,
   "id": "a8e79baa-ef86-4588-ab6b-b251024abe6f",
   "metadata": {},
   "outputs": [
    {
     "name": "stdout",
     "output_type": "stream",
     "text": [
      "99% Confidence Interval for the average body temperature of healthy people:\n",
      "Lower bound: 5.127344562608701 degrees\n",
      "Upper bound: 5.6726554373913 degrees\n"
     ]
    }
   ],
   "source": [
    "#moe = t.interval(confidence_level, df, loc=sample_mean, scale=sample_std/np.sqrt(sample_size))\n",
    "moe = t.interval(ci, df, loc=x_bar, scale=s/np.sqrt(n-1))\n",
    "print(f\"99% Confidence Interval for the average body temperature of healthy people:\")\n",
    "print(f\"Lower bound: {moe[0]} degrees\")\n",
    "print(f\"Upper bound: {moe[1]} degrees\")"
   ]
  },
  {
   "cell_type": "markdown",
   "id": "15a11e50-5059-4351-8e01-28ffa4a97ab4",
   "metadata": {},
   "source": [
    "# HYPOTHESIS TESTING\n",
    "\n"
   ]
  },
  {
   "cell_type": "markdown",
   "id": "6a476899-98d9-4ed3-99d2-55b3f19c2a83",
   "metadata": {},
   "source": [
    "\n",
    "**EXERCISE 3.**\n",
    "\n",
    "The hourly wages in a particular industry are normally distributed with mean $13.20 and standard deviation $2.50. A company in this industry employs 40 workers, paying them an average of $12.20 per hour. Can this company be accused of paying substandard wages? Use an α = .01 level test. (Wackerly, Ex.10.18)\n",
    "\n",
    "CHECK: statistic: -2.5298221281347035, pvalue= 0.005706018193000826"
   ]
  },
  {
   "cell_type": "code",
   "execution_count": 106,
   "id": "39d6ad51-6dfd-4735-8fd7-06655aa5a41e",
   "metadata": {},
   "outputs": [
    {
     "name": "stdout",
     "output_type": "stream",
     "text": [
      "Reject the null hypothesis. The company can be accused of paying substandard wages.\n",
      "Statistic: -2.5298221281347035\n",
      "p-value: 0.005706018193000826\n"
     ]
    }
   ],
   "source": [
    "\n",
    "mu = 13.20\n",
    "sigma = 2.50 \n",
    "x_bar = 12.20\n",
    "n = 40 \n",
    "alpha = 0.01 \n",
    "\n",
    "std_error = sigma / (n ** 0.5)\n",
    "\n",
    "z_score = (x_bar - mu) / std_error\n",
    "\n",
    "p_value = norm.cdf(z_score)\n",
    "\n",
    "if p_value < alpha:\n",
    "    print(\"Reject the null hypothesis. The company can be accused of paying substandard wages.\")\n",
    "else:\n",
    "    print(\"Fail to reject the null hypothesis. There is not enough evidence to accuse the company of paying substandard wages.\")\n",
    "\n",
    "print(\"Statistic:\", z_score)\n",
    "print(\"p-value:\", p_value)"
   ]
  },
  {
   "cell_type": "markdown",
   "id": "137c1d48-3131-4c25-8c86-df335754a990",
   "metadata": {},
   "source": [
    "**EXERCISE 4.** \n",
    "\n",
    "Shear strength measurements derived from unconfined compression tests for two types of soils gave the results shown in the following document (measurements in tons per square foot). Do the soils appear to differ with respect to average shear strength, at the 1% significance level?\n",
    "\n",
    "Results for two type of soils\n",
    "\n",
    "CHECK: statistic: 5.1681473319343345, pvalue= 2.593228732352821e-06"
   ]
  },
  {
   "cell_type": "code",
   "execution_count": 107,
   "id": "432dc291-e8c0-42cd-85a4-dc4867f53961",
   "metadata": {},
   "outputs": [],
   "source": [
    "df = pd.read_excel('soil.xlsx')"
   ]
  },
  {
   "cell_type": "code",
   "execution_count": 110,
   "id": "1bbceb9f-11d3-4c1c-aa81-080e19ce1333",
   "metadata": {},
   "outputs": [
    {
     "name": "stdout",
     "output_type": "stream",
     "text": [
      "Reject the null hypothesis. The soils appear to differ with respect to average shear strength.\n",
      "Statistic: 5.1681473319343345\n",
      "p-value: 2.593228732352821e-06\n"
     ]
    }
   ],
   "source": [
    "from scipy.stats import ttest_ind\n",
    "\n",
    "soil1 = df['Soil1'].dropna()\n",
    "soil2 = df['Soil2']\n",
    "\n",
    "t_statistic, p_value = ttest_ind(soil1, soil2)\n",
    "\n",
    "alpha = 0.01\n",
    "\n",
    "if p_value < alpha:\n",
    "    print(\"Reject the null hypothesis. The soils appear to differ with respect to average shear strength.\")\n",
    "else:\n",
    "    print(\"Fail to reject the null hypothesis. There is not enough evidence to conclude that the soils differ with respect to average shear strength.\")\n",
    "\n",
    "print(\"Statistic:\", t_statistic)\n",
    "print(\"p-value:\", p_value)"
   ]
  },
  {
   "cell_type": "markdown",
   "id": "02e5ca28-8246-4ce7-86b2-b642a7e613fa",
   "metadata": {},
   "source": [
    "**EXERCISE 5.**\n",
    "\n",
    "The following dataset is based on data provided by the World Bank (https://datacatalog.worldbank.org/dataset/education-statistics). World Bank Edstats.  2015 PISA Test Dataset\n",
    "\n",
    "Get descriptive statistics (the central tendency, dispersion and shape of a dataset’s distribution) for each continent group (AS, EU, AF, NA, SA, OC).\n",
    "Determine whether there is any difference (on the average) for the math scores among European (EU) and Asian (AS) countries (assume normality and equal variances). Draw side-by-side box plots.\n",
    "CHECK: statistic=0.870055317967983, pvalue=0.38826888111307345"
   ]
  },
  {
   "cell_type": "code",
   "execution_count": 80,
   "id": "b51d9cbc-f298-4389-addc-65cd47b06bb2",
   "metadata": {},
   "outputs": [
    {
     "data": {
      "text/html": [
       "<div>\n",
       "<style scoped>\n",
       "    .dataframe tbody tr th:only-of-type {\n",
       "        vertical-align: middle;\n",
       "    }\n",
       "\n",
       "    .dataframe tbody tr th {\n",
       "        vertical-align: top;\n",
       "    }\n",
       "\n",
       "    .dataframe thead th {\n",
       "        text-align: right;\n",
       "    }\n",
       "</style>\n",
       "<table border=\"1\" class=\"dataframe\">\n",
       "  <thead>\n",
       "    <tr style=\"text-align: right;\">\n",
       "      <th></th>\n",
       "      <th>Country Code</th>\n",
       "      <th>Continent_Code</th>\n",
       "      <th>internet_users_per_100</th>\n",
       "      <th>Math</th>\n",
       "      <th>Reading</th>\n",
       "      <th>Science</th>\n",
       "    </tr>\n",
       "  </thead>\n",
       "  <tbody>\n",
       "    <tr>\n",
       "      <th>0</th>\n",
       "      <td>ALB</td>\n",
       "      <td>EU</td>\n",
       "      <td>63.252933</td>\n",
       "      <td>413.1570</td>\n",
       "      <td>405.2588</td>\n",
       "      <td>427.2250</td>\n",
       "    </tr>\n",
       "    <tr>\n",
       "      <th>1</th>\n",
       "      <td>ARE</td>\n",
       "      <td>AS</td>\n",
       "      <td>90.500000</td>\n",
       "      <td>427.4827</td>\n",
       "      <td>433.5423</td>\n",
       "      <td>436.7311</td>\n",
       "    </tr>\n",
       "    <tr>\n",
       "      <th>2</th>\n",
       "      <td>ARG</td>\n",
       "      <td>SA</td>\n",
       "      <td>68.043064</td>\n",
       "      <td>409.0333</td>\n",
       "      <td>425.3031</td>\n",
       "      <td>432.2262</td>\n",
       "    </tr>\n",
       "    <tr>\n",
       "      <th>3</th>\n",
       "      <td>AUS</td>\n",
       "      <td>OC</td>\n",
       "      <td>84.560519</td>\n",
       "      <td>493.8962</td>\n",
       "      <td>502.9006</td>\n",
       "      <td>509.9939</td>\n",
       "    </tr>\n",
       "    <tr>\n",
       "      <th>4</th>\n",
       "      <td>AUT</td>\n",
       "      <td>EU</td>\n",
       "      <td>83.940142</td>\n",
       "      <td>496.7423</td>\n",
       "      <td>484.8656</td>\n",
       "      <td>495.0375</td>\n",
       "    </tr>\n",
       "    <tr>\n",
       "      <th>...</th>\n",
       "      <td>...</td>\n",
       "      <td>...</td>\n",
       "      <td>...</td>\n",
       "      <td>...</td>\n",
       "      <td>...</td>\n",
       "      <td>...</td>\n",
       "    </tr>\n",
       "    <tr>\n",
       "      <th>65</th>\n",
       "      <td>TUN</td>\n",
       "      <td>AF</td>\n",
       "      <td>48.519836</td>\n",
       "      <td>366.8180</td>\n",
       "      <td>361.0555</td>\n",
       "      <td>386.4034</td>\n",
       "    </tr>\n",
       "    <tr>\n",
       "      <th>66</th>\n",
       "      <td>TUR</td>\n",
       "      <td>EU</td>\n",
       "      <td>53.744979</td>\n",
       "      <td>420.4540</td>\n",
       "      <td>428.3351</td>\n",
       "      <td>425.4895</td>\n",
       "    </tr>\n",
       "    <tr>\n",
       "      <th>67</th>\n",
       "      <td>URY</td>\n",
       "      <td>SA</td>\n",
       "      <td>64.600000</td>\n",
       "      <td>417.9919</td>\n",
       "      <td>436.5721</td>\n",
       "      <td>435.3630</td>\n",
       "    </tr>\n",
       "    <tr>\n",
       "      <th>68</th>\n",
       "      <td>USA</td>\n",
       "      <td>NaN</td>\n",
       "      <td>74.554202</td>\n",
       "      <td>469.6285</td>\n",
       "      <td>496.9351</td>\n",
       "      <td>496.2424</td>\n",
       "    </tr>\n",
       "    <tr>\n",
       "      <th>69</th>\n",
       "      <td>VNM</td>\n",
       "      <td>AS</td>\n",
       "      <td>43.500000</td>\n",
       "      <td>494.5183</td>\n",
       "      <td>486.7738</td>\n",
       "      <td>524.6445</td>\n",
       "    </tr>\n",
       "  </tbody>\n",
       "</table>\n",
       "<p>70 rows × 6 columns</p>\n",
       "</div>"
      ],
      "text/plain": [
       "   Country Code Continent_Code  internet_users_per_100      Math   Reading  \\\n",
       "0           ALB             EU               63.252933  413.1570  405.2588   \n",
       "1           ARE             AS               90.500000  427.4827  433.5423   \n",
       "2           ARG             SA               68.043064  409.0333  425.3031   \n",
       "3           AUS             OC               84.560519  493.8962  502.9006   \n",
       "4           AUT             EU               83.940142  496.7423  484.8656   \n",
       "..          ...            ...                     ...       ...       ...   \n",
       "65          TUN             AF               48.519836  366.8180  361.0555   \n",
       "66          TUR             EU               53.744979  420.4540  428.3351   \n",
       "67          URY             SA               64.600000  417.9919  436.5721   \n",
       "68          USA            NaN               74.554202  469.6285  496.9351   \n",
       "69          VNM             AS               43.500000  494.5183  486.7738   \n",
       "\n",
       "     Science  \n",
       "0   427.2250  \n",
       "1   436.7311  \n",
       "2   432.2262  \n",
       "3   509.9939  \n",
       "4   495.0375  \n",
       "..       ...  \n",
       "65  386.4034  \n",
       "66  425.4895  \n",
       "67  435.3630  \n",
       "68  496.2424  \n",
       "69  524.6445  \n",
       "\n",
       "[70 rows x 6 columns]"
      ]
     },
     "execution_count": 80,
     "metadata": {},
     "output_type": "execute_result"
    }
   ],
   "source": [
    "data = pd.read_excel(\"2015 PISA Test.xlsx\")\n",
    "data"
   ]
  },
  {
   "cell_type": "code",
   "execution_count": 95,
   "id": "8534f11a-8a50-4718-87cf-a1958fad4cfa",
   "metadata": {},
   "outputs": [
    {
     "name": "stdout",
     "output_type": "stream",
     "text": [
      "Descriptive statistics for European countries:\n",
      "count     37.000000\n",
      "mean     477.981449\n",
      "std       35.150403\n",
      "min      371.311400\n",
      "25%      464.040100\n",
      "50%      489.728700\n",
      "75%      503.722000\n",
      "max      521.250600\n",
      "Name: Math, dtype: float64\n",
      "\n",
      "Descriptive statistics for Asian countries:\n",
      "count     17.000000\n",
      "mean     466.216647\n",
      "std       64.356490\n",
      "min      380.259000\n",
      "25%      403.833200\n",
      "50%      459.816000\n",
      "75%      531.296100\n",
      "max      564.189700\n",
      "Name: Math, dtype: float64\n",
      "\n",
      "--------------------------\n",
      "Fail to reject the null hypothesis. There is not enough evidence to conclude that the math scores differ with respect to average EU and AS continents.\n",
      "\n",
      "T-test results:\n",
      "Statistic: 0.8700553179679789\n",
      "p-value: 0.38826888111307556\n",
      "\n",
      "--------------------------\n"
     ]
    },
    {
     "data": {
      "image/png": "[encoded data removed]",
      "text/plain": [
       "<Figure size 640x480 with 1 Axes>"
      ]
     },
     "metadata": {},
     "output_type": "display_data"
    }
   ],
   "source": [
    "import matplotlib.pyplot as plt\n",
    "\n",
    "eu_countries = data[data['Continent_Code'] == 'EU']['Math']\n",
    "as_countries = data[data['Continent_Code'] == 'AS']['Math']\n",
    "\n",
    "eu_stats = eu_countries.describe()\n",
    "as_stats = as_countries.describe()\n",
    "\n",
    "t_statistic, p_value = stats.ttest_ind(eu_countries, as_countries)\n",
    "\n",
    "print(\"Descriptive statistics for European countries:\")\n",
    "print(eu_stats)\n",
    "print(\"\\nDescriptive statistics for Asian countries:\")\n",
    "print(as_stats)\n",
    "print('\\n--------------------------')\n",
    "\n",
    "alpha = 0.05\n",
    "if p_value < alpha:\n",
    "    print(\"Reject the null hypothesis. The math scores to differ with respect to average EU and AS continents.\")\n",
    "else:\n",
    "    print(\"Fail to reject the null hypothesis. There is not enough evidence to conclude that the math scores differ with respect to average EU and AS continents.\")\n",
    "\n",
    "print(\"\\nT-test results:\")\n",
    "print(\"Statistic:\", t_statistic)\n",
    "print(\"p-value:\", p_value)\n",
    "print('\\n--------------------------')\n",
    "\n",
    "df_eu_as = data[data['Continent_Code'].isin(['EU', 'AS'])]\n",
    "sns.boxplot(x='Continent_Code', y='Math', data=df_eu_as);"
   ]
  },
  {
   "cell_type": "markdown",
   "id": "b1aed771-6ba2-4fdf-8d29-435b7f24b41e",
   "metadata": {},
   "source": [
    "**Conclusion:**\n",
    "\n",
    "According to the t-test results here, since the p-value value is 0.388, it is above the determined significance level (usually 0.05). This indicates that the observed difference may have occurred by chance and is not statistically significant. As a result, according to these t-test results, there is no significant difference in mathematics scores between the two groups (European and Asian countries)."
   ]
  }
 ],
 "metadata": {
  "kernelspec": {
   "display_name": "Python 3 (ipykernel)",
   "language": "python",
   "name": "python3"
  },
  "language_info": {
   "codemirror_mode": {
    "name": "ipython",
    "version": 3
   },
   "file_extension": ".py",
   "mimetype": "text/x-python",
   "name": "python",
   "nbconvert_exporter": "python",
   "pygments_lexer": "ipython3",
   "version": "3.11.7"
  }
 },
 "nbformat": 4,
 "nbformat_minor": 5
}
